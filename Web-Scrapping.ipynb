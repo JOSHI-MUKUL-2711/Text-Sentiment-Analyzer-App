{
 "cells": [
  {
   "cell_type": "code",
   "execution_count": 1,
   "metadata": {},
   "outputs": [],
   "source": [
    "import requests\n",
    "import pandas as pd\n"
   ]
  },
  {
   "cell_type": "code",
   "execution_count": 2,
   "metadata": {},
   "outputs": [
    {
     "name": "stdout",
     "output_type": "stream",
     "text": [
      "Requirement already satisfied: fake_useragent in ./anaconda3/lib/python3.8/site-packages (0.1.11)\r\n"
     ]
    }
   ],
   "source": [
    "!pip install fake_useragent"
   ]
  },
  {
   "cell_type": "code",
   "execution_count": 3,
   "metadata": {},
   "outputs": [],
   "source": [
    "from fake_useragent import UserAgent\n",
    "from time import sleep\n",
    "user_agent = UserAgent()\n"
   ]
  },
  {
   "cell_type": "code",
   "execution_count": 4,
   "metadata": {},
   "outputs": [],
   "source": [
    "link = 'https://www.amazon.in/New-Apple-iPhone-12-128GB/product-reviews/B08L5TNJHG/ref=cm_cr_dp_d_show_all_btm?ie=UTF8&reviewerType=all_reviews'"
   ]
  },
  {
   "cell_type": "code",
   "execution_count": 5,
   "metadata": {},
   "outputs": [],
   "source": [
    "page = requests.get(link, headers={'user-agent':user_agent.ff})"
   ]
  },
  {
   "cell_type": "code",
   "execution_count": 6,
   "metadata": {},
   "outputs": [
    {
     "data": {
      "text/plain": [
       "200"
      ]
     },
     "execution_count": 6,
     "metadata": {},
     "output_type": "execute_result"
    }
   ],
   "source": [
    "page.status_code"
   ]
  },
  {
   "cell_type": "code",
   "execution_count": 7,
   "metadata": {},
   "outputs": [],
   "source": [
    "page.close()"
   ]
  },
  {
   "cell_type": "code",
   "execution_count": 8,
   "metadata": {},
   "outputs": [],
   "source": [
    "from bs4 import BeautifulSoup\n"
   ]
  },
  {
   "cell_type": "code",
   "execution_count": 9,
   "metadata": {},
   "outputs": [],
   "source": [
    "soup = BeautifulSoup(page.content)"
   ]
  },
  {
   "cell_type": "code",
   "execution_count": 10,
   "metadata": {
    "collapsed": true
   },
   "outputs": [
    {
     "data": {
      "text/plain": [
       "[<span class=\"a-size-base review-text review-text-content\" data-hook=\"review-body\">\n",
       " <span>\n",
       "   Worst battery performance.<br/>Iphone 11 is far better den this..<br/>In 4 hour battery will come down from 100 to 15 percent.<br/>Please dont buy this product at this price.\n",
       " </span>\n",
       " </span>,\n",
       " <span class=\"a-size-base review-text review-text-content\" data-hook=\"review-body\"><div class=\"a-section a-spacing-small a-spacing-top-mini video-block\" id=\"video-block-R1ANBU2PXQO2B6\">\n",
       " <video class=\"cr-video-desktop\" controls=\"\" id=\"review-video-id-R1ANBU2PXQO2B6\" poster=\"https://images-eu.ssl-images-amazon.com/images/I/615rpeLpGVS._SY250.png\" preload=\"none\">\n",
       " <source src=\"https://images-eu.ssl-images-amazon.com/images/I/F1E4CltzySS.mp4\" type=\"video/mp4\">\n",
       "   Your browser does not support HTML5 video.\n",
       " </source></video></div><input class=\"video-url\" name=\"\" type=\"hidden\" value=\"https://images-eu.ssl-images-amazon.com/images/I/F1E4CltzySS.mp4\"/><input class=\"video-slate-img-url\" name=\"\" type=\"hidden\" value=\"https://images-eu.ssl-images-amazon.com/images/I/615rpeLpGVS.png\"/>\n",
       " <span>\n",
       "    Another beauty from Apple. I was upgraded from iPhone X and it was great experience with all the latest specs and flawlessly smooth. Thanks to all new A14 Bionic chip.<br/>Build quality was great as always from Apple.<br/>Phone feels light on hands due to aluminium body. I chose Blue colour because wanted to go for different colour than routine Black and white iPhones so initially I was bit skeptical but after seeing the phone in person I’m happy with the blue colour  “ not bad at all and not too flashy”<br/>Grip and feel perfect. Phone comes with iOS 14.1. Camera quality was excellent and sufficient  as a normal user.<br/>If you are from iOS ecosystem nothing will go wrong here.<br/>There is nothing to question about the quality and interface from Apple ( it’s my personal opinion as a long time apple user)<br/>As you all know iPhone 12 won’t comes with earphones and charging brick( adapter)<br/>I bought separately 20w apple adapter from new Apple India online store for Rs.1900<br/>I don’t judge here apple because of accessories removal and the price tag. I hope apple can justify this.<br/>I only hope and wanted to see so badly Made in India IPhones so that we all can enjoy lower priced ( at least a better priced) iPhones in the future.<br/>A big thanks to Appario Retail Pvt. Ltd and Amazon for delivering genuine iPhone as always in perfect condition. Delivered way before the promised date.<br/>Update: (01/12/2020) After testing 25 days especially on battery life of this iPhone 12, results were amazing and I’m completely satisfied  with the battery performance. On Moderate gaming, Moderate Video Content, heavy on calls and heavy on browsing this iPhone 12 battery life is sufficient for your regular Day.<br/>My conclusion is definitely a better and improved battery performer than the previous iPhone model.<br/>Thank you Apple India<br/>Thank you Appario Retail Pvt. Ltd.<br/>Thank you Amazon India.<br/>( Note: charger brick was shown in my video was bought myself from Apple India online store because it won’t comes with the phone)\n",
       " </span>\n",
       " </span>,\n",
       " <span class=\"a-size-base review-text review-text-content\" data-hook=\"review-body\">\n",
       " <span>\n",
       "   This was my first switch to an ios device after using an android untill now. And I am not disappointed. The build quality, the responsive touch, the display, the camera, the battery life are just exceptional.<br/>Been using for about 10 days now, and consistently giving around 7h of screen on time.<br/>The camera is just way too good. Espeecially the night mode impressed me a lot.<br/>Only issue when switching from Android to iPhone I encountered was to be not able to restore my whatsapp chats. There are no official/free ways for doing this.<br/>The phone is simple amazing.\n",
       " </span>\n",
       " </span>,\n",
       " <span class=\"a-size-base review-text review-text-content\" data-hook=\"review-body\">\n",
       " <span>\n",
       "   Sold kidney bought this, now not feeling well but the number of days I am alive with one kidney will enjoy using this phone. Guys be careful if you rich it’s ok else sell something else but not kidney it hurts\n",
       " </span>\n",
       " </span>,\n",
       " <span class=\"a-size-base review-text review-text-content\" data-hook=\"review-body\">\n",
       " <span>\n",
       "   Nicely packed !! Kudos to seller !!<br/>I was very much confused between iphone 11 and this one as the price of iphone dropped ... But i am glad i chose this over iphone 11.<br/>1.Display:<br/>Main upgrade in iphone 12 is the oled display. Boy o boy the screen is amazing. I have user many android flagship's but this beats them all.<br/>2.Battery:<br/>Battery is amazing. I am getting 1.5 days of battery life with my usage.<br/>PS: i dont play games.<br/>3.IOS:<br/>This is my 1st iphone and the experience with ios is great ... Very smooth animations ..even though its not 90hz screen but everything is buttery smooth.<br/>4. Camera:<br/>The pics from this phone is superb. FLAGSHIP LEVEL CAMERA! You will not be dissapointed.<br/>5 Build &amp;Design :<br/>This phone looks and feels very premium compared to other phones.Very comfotable to use.<br/>6.Face Id:<br/>Face id works very fast and accurate in low lighting conditions.<br/>7.Updates:<br/>Ios14 is good and we can expect another 4yrs of software  updates thats huge !<br/><br/>Cons:<br/>1.Priced very high but it may be because of high taxes and custom duty.<br/>2.No charger and earpods in the box.<br/>3.Notifications are a mess ...android is better in managing new notifications.<br/><br/>Overall a great Phone IF You are OK with the Price !!!\n",
       " </span>\n",
       " </span>,\n",
       " <span class=\"a-size-base review-text review-text-content\" data-hook=\"review-body\">\n",
       " <span>\n",
       "   My girlfriend demanded me this iphone... And now she is uploading pics with new boyfriend 🥺with caption that \"he don't deserve me\"<br/>I want to move on but it will be very difficult to survive with one kidney😔\n",
       " </span>\n",
       " </span>,\n",
       " <span class=\"a-size-base review-text review-text-content\" data-hook=\"review-body\">\n",
       " <span>\n",
       "   Hello there,<br/>I am writing this review after 3-4 days of usage, Iphone 12 is a beast in terms of:-<br/>Memory<br/>Build quality<br/>Camera<br/>Processor<br/>Display<br/>Except battery there’s rumour going on that iPhone 12 battery is bad or worst, so i am here to clarify all your doubts,<br/>iPhone battery will last easily a day but not more than that and here’s some condition that you should aware about<br/>1. If you are using your phone on wifi than it will last a day easily without any problem.<br/>2. If you are on 4g than it will not last a day for example, if you fully charged your phone at 8 am than it will last till 8 pm not more than that and this happen if you’re on 4g continuously otherwise it will last about 10 pm.<br/>Here’s some tip you should do after buying iPhone 12, watch video on YouTube to know “How to save battery on iPhone 12” this will help you increase your battery life as well battery health.<br/>For my experience, i think you should go for this device without any second thoughts &amp; those who don’t have any tech knowledge and thinking of buying this then I recommend you to go for android because iOS has complicate settings than android...you will regret after buying it.<br/><br/>Got original product Btw!!!!!\n",
       " </span>\n",
       " </span>,\n",
       " <span class=\"a-size-base review-text review-text-content\" data-hook=\"review-body\">\n",
       " <span>\n",
       "   I have been an android user for the past 8+ years. Recently was using iphone 6 for the past few months, liked it much and wanted to switch to ios. I did not want to regret, so i purchased the best in the market, going with iphone 12. Honestly, I dont feel its worthy. Perfomance wise, its good. A lot other phones like MI, 1+ everything gives us a very nice perfomance too. The A14 chip is just a tag line to sell the phone. Are we really going to process million instructions per second on a mobile phone? Defenitely not.<br/><br/>Battery, After charging it to 100% in the morning, I am hardly getting 1 full day with average use. My battery is almost 20% at the end of the day with a screentime of 4-4.3 hours[Update : With low power mode, it makes a 6 hour day, ending with 30%]. Camera quality is amazing in natural light. Yes, as specified it works so nice in night light, but please dont mistake night light as no-light. Front camera is still average. The same things i see in every other mid range android phones. I am still using JIO 4g. Not sure how this would work on 5g (must drain even faster)<br/><br/>Face detenction, the color of the phone, Water resistant and all stuffs are nice to have, fancy items.  But not really convinced if this is all we get for 84k?<br/><br/>Fast charging - I bought a 20W charger from apple store for Rs.1900. I plug in when the battery is 20-25% and it takes 1.45 hours to reach 100%. If this is all about fast charging you are looking for, well and good. I never tried with magsafe, honestly. But this to me doesnt seem fast charging for 2800~ mah battery.<br/><br/>I wont say that this phone is too poor. It gives us all that it promises. Personally I dont recommend investing 85k Indian money into this. Either go for lower versions of other iphones like 11 or you can wait for an year and buy this at cheaper cost.<br/><br/>PROS : Camera &amp; Perfomance<br/>CONS : Battery and Cost\n",
       " </span>\n",
       " </span>,\n",
       " <span class=\"a-size-base review-text review-text-content\" data-hook=\"review-body\">\n",
       " <span>\n",
       "   Same like the old classic iphone 5 look<br/>But now difference is only<br/>6.1 inch display or The A 14 bionic chip<br/>And oled Hd display\n",
       " </span>\n",
       " </span>,\n",
       " <span class=\"a-size-base review-text review-text-content\" data-hook=\"review-body\">\n",
       " <span>\n",
       "   Extremely disappointed with this phone. It’s a seemingly average phone which is over priced by 4 to 5 times at least. This phone is a joke in comparison with any Samsung flagship phone. I am shocked that so many fools like me are falling for apple’s trickery and gimmickry.<br/><br/>The battery doesn’t last half a day. Screen size is average. Thickness of this phone will constantly remind you that this phone belongs to another era. 64gb space won’t be enough for anyone.<br/><br/>And then there are other apple quirks - won’t come with a SD card, won’t come with a charging brick or a set of head phones. Your headphones with the regular audio pin won’t work with this one. Face ID won’t work with masks on. So your forced to remove your masks when you’re out and vulnerable. This phone won’t allow you set google maps as default. So you continue to suffer using their apple map which I bet even Tim Cook doesn’t use. You won’t be able to set google chrome as your default browser as iOS won’t let you.<br/><br/>Overall the phone is overpriced and overrated. Anybody with half the wit will figure that this phone is a joke and a mere marketing gimmick. An ordinary phone like this shouldn’t cost you more than 12 to 14K.<br/><br/>Apple is going down!<br/><br/>Amazon won’t take this phone back as they have a 10 day return policy. So I am pretty much stuck with this damn excuse for a phone till I get to upgrade to a Samsung phone.\n",
       " </span>\n",
       " </span>]"
      ]
     },
     "execution_count": 10,
     "metadata": {},
     "output_type": "execute_result"
    }
   ],
   "source": [
    "soup.find_all('span', {'class':'a-size-base review-text review-text-content', 'data-hook':'review-body'})"
   ]
  },
  {
   "cell_type": "code",
   "execution_count": 11,
   "metadata": {},
   "outputs": [
    {
     "data": {
      "text/plain": [
       "<span class=\"a-size-base review-text review-text-content\" data-hook=\"review-body\">\n",
       "<span>\n",
       "  Worst battery performance.<br/>Iphone 11 is far better den this..<br/>In 4 hour battery will come down from 100 to 15 percent.<br/>Please dont buy this product at this price.\n",
       "</span>\n",
       "</span>"
      ]
     },
     "execution_count": 11,
     "metadata": {},
     "output_type": "execute_result"
    }
   ],
   "source": [
    "soup.find_all('span', {'class':'a-size-base review-text review-text-content', 'data-hook':'review-body'})[0]"
   ]
  },
  {
   "cell_type": "code",
   "execution_count": 12,
   "metadata": {},
   "outputs": [],
   "source": [
    "reviews_body = soup.find_all('span', {'class':'a-size-base review-text review-text-content', 'data-hook':'review-body'})"
   ]
  },
  {
   "cell_type": "code",
   "execution_count": 15,
   "metadata": {},
   "outputs": [
    {
     "name": "stdout",
     "output_type": "stream",
     "text": [
      "\n",
      "  Worst battery performance.Iphone 11 is far better den this..In 4 hour battery will come down from 100 to 15 percent.Please dont buy this product at this price.\n",
      "\n",
      "---------\n",
      "\n",
      "   Another beauty from Apple. I was upgraded from iPhone X and it was great experience with all the latest specs and flawlessly smooth. Thanks to all new A14 Bionic chip.Build quality was great as always from Apple.Phone feels light on hands due to aluminium body. I chose Blue colour because wanted to go for different colour than routine Black and white iPhones so initially I was bit skeptical but after seeing the phone in person I’m happy with the blue colour  “ not bad at all and not too flashy”Grip and feel perfect. Phone comes with iOS 14.1. Camera quality was excellent and sufficient  as a normal user.If you are from iOS ecosystem nothing will go wrong here.There is nothing to question about the quality and interface from Apple ( it’s my personal opinion as a long time apple user)As you all know iPhone 12 won’t comes with earphones and charging brick( adapter)I bought separately 20w apple adapter from new Apple India online store for Rs.1900I don’t judge here apple because of accessories removal and the price tag. I hope apple can justify this.I only hope and wanted to see so badly Made in India IPhones so that we all can enjoy lower priced ( at least a better priced) iPhones in the future.A big thanks to Appario Retail Pvt. Ltd and Amazon for delivering genuine iPhone as always in perfect condition. Delivered way before the promised date.Update: (01/12/2020) After testing 25 days especially on battery life of this iPhone 12, results were amazing and I’m completely satisfied  with the battery performance. On Moderate gaming, Moderate Video Content, heavy on calls and heavy on browsing this iPhone 12 battery life is sufficient for your regular Day.My conclusion is definitely a better and improved battery performer than the previous iPhone model.Thank you Apple IndiaThank you Appario Retail Pvt. Ltd.Thank you Amazon India.( Note: charger brick was shown in my video was bought myself from Apple India online store because it won’t comes with the phone)\n",
      "\n",
      "---------\n"
     ]
    }
   ],
   "source": [
    "for b in reviews_body[:2]:\n",
    "    print(b.find('span').text)\n",
    "    print('---------')"
   ]
  },
  {
   "cell_type": "code",
   "execution_count": 16,
   "metadata": {},
   "outputs": [],
   "source": [
    "reviews = [b.find('span').text for b in reviews_body]"
   ]
  },
  {
   "cell_type": "code",
   "execution_count": 17,
   "metadata": {},
   "outputs": [
    {
     "data": {
      "text/plain": [
       "10"
      ]
     },
     "execution_count": 17,
     "metadata": {},
     "output_type": "execute_result"
    }
   ],
   "source": [
    "len(reviews_body)"
   ]
  },
  {
   "cell_type": "code",
   "execution_count": 18,
   "metadata": {},
   "outputs": [
    {
     "data": {
      "text/plain": [
       "[<i class=\"a-icon a-icon-star a-star-3 review-rating\" data-hook=\"review-star-rating\"><span class=\"a-icon-alt\">3.0 out of 5 stars</span></i>,\n",
       " <i class=\"a-icon a-icon-star a-star-5 review-rating\" data-hook=\"review-star-rating\"><span class=\"a-icon-alt\">5.0 out of 5 stars</span></i>,\n",
       " <i class=\"a-icon a-icon-star a-star-5 review-rating\" data-hook=\"review-star-rating\"><span class=\"a-icon-alt\">5.0 out of 5 stars</span></i>,\n",
       " <i class=\"a-icon a-icon-star a-star-4 review-rating\" data-hook=\"review-star-rating\"><span class=\"a-icon-alt\">4.0 out of 5 stars</span></i>,\n",
       " <i class=\"a-icon a-icon-star a-star-5 review-rating\" data-hook=\"review-star-rating\"><span class=\"a-icon-alt\">5.0 out of 5 stars</span></i>,\n",
       " <i class=\"a-icon a-icon-star a-star-1 review-rating\" data-hook=\"review-star-rating\"><span class=\"a-icon-alt\">1.0 out of 5 stars</span></i>,\n",
       " <i class=\"a-icon a-icon-star a-star-4 review-rating\" data-hook=\"review-star-rating\"><span class=\"a-icon-alt\">4.0 out of 5 stars</span></i>,\n",
       " <i class=\"a-icon a-icon-star a-star-4 review-rating\" data-hook=\"review-star-rating\"><span class=\"a-icon-alt\">4.0 out of 5 stars</span></i>,\n",
       " <i class=\"a-icon a-icon-star a-star-5 review-rating\" data-hook=\"review-star-rating\"><span class=\"a-icon-alt\">5.0 out of 5 stars</span></i>,\n",
       " <i class=\"a-icon a-icon-star a-star-1 review-rating\" data-hook=\"review-star-rating\"><span class=\"a-icon-alt\">1.0 out of 5 stars</span></i>]"
      ]
     },
     "execution_count": 18,
     "metadata": {},
     "output_type": "execute_result"
    }
   ],
   "source": [
    "soup.findAll('i', {'data-hook' : \"review-star-rating\"})"
   ]
  },
  {
   "cell_type": "code",
   "execution_count": 19,
   "metadata": {},
   "outputs": [],
   "source": [
    "ratings = soup.findAll('i', {'data-hook' : \"review-star-rating\"})"
   ]
  },
  {
   "cell_type": "code",
   "execution_count": 20,
   "metadata": {},
   "outputs": [
    {
     "name": "stdout",
     "output_type": "stream",
     "text": [
      "3.0 out of 5 stars\n",
      "------\n",
      "5.0 out of 5 stars\n",
      "------\n",
      "5.0 out of 5 stars\n",
      "------\n",
      "4.0 out of 5 stars\n",
      "------\n",
      "5.0 out of 5 stars\n",
      "------\n",
      "1.0 out of 5 stars\n",
      "------\n",
      "4.0 out of 5 stars\n",
      "------\n",
      "4.0 out of 5 stars\n",
      "------\n",
      "5.0 out of 5 stars\n",
      "------\n",
      "1.0 out of 5 stars\n",
      "------\n"
     ]
    }
   ],
   "source": [
    "for rat in ratings:\n",
    "    print(rat.find('span').text)\n",
    "    print('------')"
   ]
  },
  {
   "cell_type": "code",
   "execution_count": 21,
   "metadata": {},
   "outputs": [],
   "source": [
    "ratings_ = [rat.find('span').text for rat in ratings]"
   ]
  },
  {
   "cell_type": "code",
   "execution_count": 22,
   "metadata": {},
   "outputs": [
    {
     "data": {
      "text/plain": [
       "['3.0 out of 5 stars',\n",
       " '5.0 out of 5 stars',\n",
       " '5.0 out of 5 stars',\n",
       " '4.0 out of 5 stars',\n",
       " '5.0 out of 5 stars',\n",
       " '1.0 out of 5 stars',\n",
       " '4.0 out of 5 stars',\n",
       " '4.0 out of 5 stars',\n",
       " '5.0 out of 5 stars',\n",
       " '1.0 out of 5 stars']"
      ]
     },
     "execution_count": 22,
     "metadata": {},
     "output_type": "execute_result"
    }
   ],
   "source": [
    "ratings_"
   ]
  },
  {
   "cell_type": "code",
   "execution_count": 23,
   "metadata": {},
   "outputs": [],
   "source": [
    "ratings = []\n",
    "for sent in ratings_:\n",
    "    r1 = sent.split()[0]\n",
    "    ratings.append(float(r1))"
   ]
  },
  {
   "cell_type": "code",
   "execution_count": 24,
   "metadata": {},
   "outputs": [
    {
     "data": {
      "text/plain": [
       "[3.0, 5.0, 5.0, 4.0, 5.0, 1.0, 4.0, 4.0, 5.0, 1.0]"
      ]
     },
     "execution_count": 24,
     "metadata": {},
     "output_type": "execute_result"
    }
   ],
   "source": [
    "ratings"
   ]
  },
  {
   "cell_type": "code",
   "execution_count": 26,
   "metadata": {},
   "outputs": [
    {
     "data": {
      "text/plain": [
       "'Apple iPhone 12 Blue, 128GB Storage'"
      ]
     },
     "execution_count": 26,
     "metadata": {},
     "output_type": "execute_result"
    }
   ],
   "source": [
    "soup.find('a', {'data-hook':\"product-link\", 'class':\"a-link-normal\"}).text"
   ]
  },
  {
   "cell_type": "code",
   "execution_count": 27,
   "metadata": {},
   "outputs": [
    {
     "data": {
      "text/plain": [
       "'Apple'"
      ]
     },
     "execution_count": 27,
     "metadata": {},
     "output_type": "execute_result"
    }
   ],
   "source": [
    "soup.find('a', {'class':\"a-size-base a-link-normal\"}).text"
   ]
  },
  {
   "cell_type": "markdown",
   "metadata": {},
   "source": [
    "## Now using above code steps for getting product name, product company, review and rating in one go."
   ]
  },
  {
   "cell_type": "code",
   "execution_count": 28,
   "metadata": {},
   "outputs": [],
   "source": [
    "# Given below are the links used for web-scrapping.\n",
    "# uncomment the below code and store all the links in a list.\n",
    "\n",
    "\n",
    "# link = ['https://www.amazon.in/New-Apple-iPhone-11-64GB/product-reviews/B08L8DV7BX/ref=cm_cr_dp_d_show_all_btm?ie=UTF8&reviewerType=all_reviews&pageNumber=',\n",
    "#         'https://www.amazon.in/Samsung-Galaxy-Raven-Black-Storage/product-reviews/B07HGH8ML7/ref=cm_cr_dp_d_show_all_btm?ie=UTF8&reviewerType=all_reviews&pageNumber=',\n",
    "#         'https://www.amazon.in/OnePlus-Mirror-Black-128GB-Storage/product-reviews/B085J1CPD1/ref=cm_cr_dp_d_show_all_btm?ie=UTF8&reviewerType=all_reviews&pageNumber=',\n",
    "#         'https://www.amazon.in/Redmi-Note-Arctic-White-Storage/product-reviews/B086982ZKF/ref=cm_cr_dp_d_show_all_btm?ie=UTF8&reviewerType=all_reviews&pageNumber=',\n",
    "#         'https://www.amazon.in/Sony-Bravia-inches-Ultra-KD-55X7002G/product-reviews/B07STKNJ9R/ref=cm_cr_dp_d_show_all_btm?ie=UTF8&reviewerType=all_reviews&pageNumber=',\n",
    "#         'https://www.amazon.in/Mi-125-7-Inches-Ultra-Android/product-reviews/B07X841RGL/ref=cm_cr_dp_d_show_all_btm?ie=UTF8&reviewerType=all_reviews&pageNumber=',\n",
    "#         'https://www.amazon.in/Samsung-inches-Wondertainment-Ultra-UA55TUE60AKBXL/product-reviews/B08R5QVRPP/ref=cm_cr_dp_d_show_all_btm?ie=UTF8&reviewerType=all_reviews&pageNumber=',\n",
    "#         'https://www.amazon.in/OnePlus-inches-Certified-Android-55Q1IN/product-reviews/B07W7VQ3Z7/ref=cm_cr_dp_d_show_all_btm?ie=UTF8&reviewerType=all_reviews&pageNumber=',\n",
    "#         'https://www.amazon.in/LG-inches-Ultra-65UM7290PTD-Ceramic/product-reviews/B08CBZ4JQ2/ref=cm_cr_dp_d_show_all_btm?ie=UTF8&reviewerType=all_reviews&pageNumber=',\n",
    "#         'https://www.amazon.in/Fire-Boltt-Bluetooth-Headphones-Lightweight-Assistance/product-reviews/B0814GJNKG/ref=cm_cr_dp_d_show_all_btm?ie=UTF8&reviewerType=all_reviews&pageNumber=',\n",
    "#         'https://www.amazon.in/boAt-BassHeads-100-Headphones-Black/product-reviews/B071Z8M4KX/ref=cm_cr_dp_d_show_all_btm?ie=UTF8&reviewerType=all_reviews&pageNumber=',\n",
    "#         'https://www.amazon.in/Sony-MDR-ZX110A-Stereo-Headphones-without/product-reviews/B00KGZZ824/ref=cm_cr_dp_d_show_all_btm?ie=UTF8&reviewerType=all_reviews&pageNumber=',\n",
    "#         'https://www.amazon.in/Sony-WF-XB700-Wireless-Bluetooth-Headphones/product-reviews/B085VQFZ8Z/ref=cm_cr_dp_d_show_all_btm?ie=UTF8&reviewerType=all_reviews&pageNumber=',\n",
    "#         'https://www.amazon.in/Sennheiser-True-Wireless-Bluetooth-Multi-Touch/product-reviews/B07HRHM8F3/ref=cm_cr_dp_d_show_all_btm?ie=UTF8&reviewerType=all_reviews&pageNumber=',\n",
    "#         'https://www.amazon.in/Complete-Novels-Sherlock-Holmes/product-reviews/8175994312/ref=cm_cr_dp_d_show_all_btm?ie=UTF8&reviewerType=all_reviews&pageNumber=',\n",
    "#         'https://www.amazon.in/Believe-Yourself-Dr-Joseph-Murphy/product-reviews/8183225098/ref=cm_cr_dp_d_show_all_btm?ie=UTF8&reviewerType=all_reviews&pageNumber=',\n",
    "#         'https://www.amazon.in/Attitude-Everything-Change-Your-Life/product-reviews/9351772071/ref=cm_cr_dp_d_show_all_btm?ie=UTF8&reviewerType=all_reviews&pageNumber=',\n",
    "#         'https://www.amazon.in/Girl-Room-105-Chetan-Bhagat/product-reviews/1542040469/ref=cm_cr_dp_d_show_all_btm?ie=UTF8&reviewerType=all_reviews&pageNumber=',\n",
    "#         'https://www.amazon.in/Mind-Business-Greatest-Gadget-Books/product-reviews/8184956959/ref=cm_cr_dp_d_show_all_btm?ie=UTF8&reviewerType=all_reviews&pageNumber=',\n",
    "#         'https://www.amazon.in/Woman-Window-J-Finn/product-reviews/0008294372/ref=cm_cr_dp_d_show_all_btm?ie=UTF8&reviewerType=all_reviews&pageNumber=',\n",
    "#         'https://www.amazon.in/Gentleman-Moscow-Amor-Towles/product-reviews/0099558785/ref=cm_cr_dp_d_show_all_btm?ie=UTF8&reviewerType=all_reviews&pageNumber=',\n",
    "#         'https://www.amazon.in/Alchemist-Paulo-Coelho/product-reviews/8172234988/ref=cm_cr_dp_d_show_all_btm?ie=UTF8&reviewerType=all_reviews&pageNumber=',\n",
    "#         'https://www.amazon.in/AM-Club-Your-Morning-Elevate/product-reviews/9387944891/ref=cm_cr_dp_d_show_all_btm?ie=UTF8&reviewerType=all_reviews&pageNumber=',\n",
    "#         'https://www.amazon.in/Apple-MacBook-Air-13-3-inch-MQD32HN/product-reviews/B073Q5R6VR/ref=cm_cr_dp_d_show_all_btm?ie=UTF8&reviewerType=all_reviews&pageNumber=',\n",
    "#         'https://www.amazon.in/HP-cf3047TU-i3-1005G1-Integrated-Graphics/product-reviews/B087S25JL2/ref=cm_cr_dp_d_show_all_btm?ie=UTF8&reviewerType=all_reviews&pageNumber=',\n",
    "#         'https://www.amazon.in/ASUS-VivoBook-Integrated-Transparent-M415DA-EK012TS/product-reviews/B08JMMLSYT/ref=cm_cr_dp_d_show_all_btm?ie=UTF8&reviewerType=all_reviews&pageNumber=',\n",
    "#         'https://www.amazon.in/OnePlus-Band-Dual-Color-Monitoring-Saturation/product-reviews/B07XY9BZPM/ref=cm_cr_dp_d_show_all_btm?ie=UTF8&reviewerType=all_reviews&pageNumber=',\n",
    "#         'https://www.amazon.in/Mi-Smart-Band-Waterproof-up/product-reviews/B07WLL998K/ref=cm_cr_dp_d_show_all_btm?ie=UTF8&reviewerType=all_reviews&pageNumber=',\n",
    "#         'https://www.amazon.in/Fastrack-Reflex-Digital-Black-Watch-SWD90059PP05/product-reviews/B07DQN5B3G/ref=cm_cr_dp_d_show_all_btm?ie=UTF8&reviewerType=all_reviews&pageNumber=',\n",
    "#         'https://www.amazon.in/Fire-Boltt-Touch-Fitness-Sports-Tracking/product-reviews/B08L11LBH2/ref=cm_cr_dp_d_show_all_btm?ie=UTF8&reviewerType=all_reviews&pageNumber=',\n",
    "#         'https://www.amazon.in/HONOR-Band-5-Midnight-Navy/product-reviews/B07WQX8JL4/ref=cm_cr_dp_d_show_all_btm?ie=UTF8&reviewerType=all_reviews&pageNumber=',\n",
    "#         'https://www.amazon.in/Samsung-Galaxy-10-1-Wi-Fi-Silver/product-reviews/B07SSTH14H/ref=cm_cr_dp_d_show_all_btm?ie=UTF8&reviewerType=all_reviews&pageNumber=',\n",
    "#         'https://www.amazon.in/HUAWEI-MediaPad-Tablet-Wi-Fi-Black/product-reviews/B07QD7KM1J/ref=cm_cr_dp_d_show_all_btm?ie=UTF8&reviewerType=all_reviews&pageNumber=',\n",
    "#         'https://www.amazon.in/Nike-Mens-Revolution-Running-Shoes/product-reviews/B07MQ26625/ref=cm_cr_dp_d_show_all_btm?ie=UTF8&reviewerType=all_reviews&pageNumber=',\n",
    "#         'https://www.amazon.in/Canon-1500D-Digital-Camera-S18-55/product-reviews/B07BS4TJ43/ref=cm_cr_dp_d_show_all_btm?ie=UTF8&reviewerType=all_reviews&pageNumber=',\n",
    "#         'https://www.amazon.in/Nikon-Nikkor-18-55mm-3-5-5-6G-Memory/product-reviews/B07GWKDLGT/ref=cm_cr_dp_d_show_all_btm?ie=UTF8&reviewerType=all_reviews&pageNumber=',\n",
    "#         'https://www.amazon.in/Nikon-DX-Format-3-5-5-6G-70-300mm-4-5-6-3G/product-reviews/B07GW23M7T/ref=cm_cr_dp_d_show_all_btm?ie=UTF8&reviewerType=all_reviews&pageNumber=',\n",
    "#         'https://www.amazon.in/Canon-24-1MP-Mirrorless-SanDisk-Extreme/product-reviews/B088RVYSP5/ref=cm_cr_dp_d_show_all_btm?ie=UTF8&reviewerType=all_reviews&pageNumber=',\n",
    "#         'https://www.amazon.in/Samsung-Inverter-Refrigerator-RT28T3483S8-HL/product-reviews/B083461G9M/ref=cm_cr_dp_d_show_all_btm?ie=UTF8&reviewerType=all_reviews&pageNumber=',\n",
    "#         'https://www.amazon.in/Voltas-Beko-Settings-Dishwasher-DT8S/product-reviews/B07NF7NHSN/ref=cm_cr_dp_d_show_all_btm?ie=UTF8&reviewerType=all_reviews&pageNumber=',\n",
    "#         'https://www.amazon.in/Samsung-Convection-Microwave-CE1041DSB2-TL/product-reviews/B01LF9EX1G/ref=cm_cr_dp_d_show_all_btm?ie=UTF8&reviewerType=all_reviews&pageNumber=',\n",
    "#         'https://www.amazon.in/Bajaj-Microwave-1701-MT-White/product-reviews/B00F15AFPY/ref=cm_cr_dp_d_show_all_btm?ie=UTF8&reviewerType=all_reviews&pageNumber=',\n",
    "#         'https://www.amazon.in/All-new-Fire-TV-Stick-with-Alexa-Voice-Remote/product-reviews/B07ZZX5ZSW/ref=cm_cr_dp_d_show_all_btm?ie=UTF8&reviewerType=all_reviews&pageNumber=',\n",
    "#         'https://www.amazon.in/Staging-Product-Not-Retail-Sale/product-reviews/B07FQ4Q7MB/ref=cm_cr_dp_d_show_all_btm?ie=UTF8&reviewerType=all_reviews&pageNumber=',\n",
    "#         'https://www.amazon.in/Echo-Dot-3rd-Gen/product-reviews/B07PGL2ZSL/ref=cm_cr_dp_d_show_all_btm?ie=UTF8&reviewerType=all_reviews&pageNumber=',\n",
    "#         'https://www.amazon.in/Echo-Input-Portable-Smart-Speaker/product-reviews/B07YP9WYFN/ref=cm_cr_dp_d_show_all_btm?ie=UTF8&reviewerType=all_reviews&pageNumber=',\n",
    "#         'https://www.amazon.in/POLESTAR-Casual-bagpack-School-Backpack/product-reviews/B07PQQ8M7B/ref=cm_cr_dp_d_show_all_btm?ie=UTF8&reviewerType=all_reviews&pageNumber=',\n",
    "#         'https://www.amazon.in/Wildcraft-Wolf_Blk-Casual-Backpack-11629-Wolf_Blk/product-reviews/B079DDT65R/ref=cm_cr_dp_d_show_all_btm?ie=UTF8&reviewerType=all_reviews&pageNumber=',\n",
    "#         'https://www.amazon.in/Gear-Green-Casual-Backpack-BKPECOBP40503/product-reviews/B019HA8DQQ/ref=cm_cr_dp_d_show_all_btm?ie=UTF8&reviewerType=all_reviews&pageNumber=',\n",
    "#         'https://www.amazon.in/SAFARI-Denim-Casual-Backpack-DAYPACKNEO15CBDNB/product-reviews/B07NSC4SL5/ref=cm_cr_dp_d_show_all_btm?ie=UTF8&reviewerType=all_reviews&pageNumber='       \n",
    "# ]"
   ]
  },
  {
   "cell_type": "code",
   "execution_count": 63,
   "metadata": {},
   "outputs": [
    {
     "name": "stdout",
     "output_type": "stream",
     "text": [
      "website 1 completed\n",
      "website 2 completed\n",
      "website 3 completed\n",
      "website 4 completed\n",
      "website 5 completed\n",
      "website 6 completed\n",
      "website 7 completed\n",
      "website 8 completed\n",
      "website 9 completed\n",
      "website 10 completed\n",
      "website 11 completed\n",
      "website 12 completed\n",
      "website 13 completed\n",
      "website 14 completed\n",
      "website 15 completed\n",
      "website 16 completed\n",
      "website 17 completed\n",
      "website 18 completed\n",
      "website 19 completed\n",
      "website 20 completed\n",
      "website 21 completed\n",
      "website 22 completed\n",
      "website 23 completed\n",
      "website 24 completed\n",
      "website 25 completed\n",
      "website 26 completed\n",
      "website 27 completed\n",
      "website 28 completed\n",
      "website 29 completed\n",
      "website 30 completed\n",
      "website 31 completed\n",
      "website 32 completed\n",
      "website 33 completed\n",
      "website 34 completed\n",
      "website 35 completed\n",
      "website 36 completed\n",
      "website 37 completed\n",
      "website 38 completed\n",
      "website 39 completed\n",
      "website 40 completed\n",
      "website 41 completed\n",
      "website 42 completed\n",
      "website 43 completed\n",
      "website 44 completed\n",
      "website 45 completed\n",
      "website 46 completed\n",
      "website 47 completed\n",
      "website 48 completed\n",
      "website 49 completed\n",
      "website 50 completed\n"
     ]
    }
   ],
   "source": [
    "reviews = []\n",
    "ratings = []\n",
    "product_name = []\n",
    "company_name = []\n",
    "counter = 0\n",
    "for l in link:\n",
    "    counter += 1\n",
    "    for x in range(1,35):\n",
    "        link_1 = l + str(x)\n",
    "        page = requests.get(link_1, headers={'user-agent':user_agent.ff})\n",
    "        soup = BeautifulSoup(page.content)\n",
    "        page.close()\n",
    "        try:\n",
    "            reviews_body = soup.find_all('span', {'class':'a-size-base review-text review-text-content', 'data-hook':'review-body'})\n",
    "            m = len(reviews_body)\n",
    "            rat = soup.findAll('i', {'data-hook' : \"review-star-rating\"})\n",
    "            n = len(rat)\n",
    "            if m != n:\n",
    "                continue\n",
    "            rat = [rat.find('span').text for rat in rat]\n",
    "            p_name = soup.find('a', {'data-hook':\"product-link\", 'class':\"a-link-normal\"}).text\n",
    "            p_lst = [p_name]*n\n",
    "            c_name = soup.find('a', {'class':\"a-size-base a-link-normal\"}).text\n",
    "            c_lst = [c_name]*n\n",
    "            reviews.extend([b.find('span').text for b in reviews_body])\n",
    "            ratings.extend([float(sent.split()[0]) for sent in rat])\n",
    "            product_name.extend(p_lst)\n",
    "            company_name.extend(c_lst)\n",
    "        except Exception as e:\n",
    "            pass\n",
    "        #sleep(3)\n",
    "    print('website', counter, 'completed')\n",
    "    #sleep(2)\n",
    "\n",
    "    "
   ]
  },
  {
   "cell_type": "code",
   "execution_count": 64,
   "metadata": {},
   "outputs": [
    {
     "data": {
      "text/plain": [
       "(13890, 13890, 13890, 13890)"
      ]
     },
     "execution_count": 64,
     "metadata": {},
     "output_type": "execute_result"
    }
   ],
   "source": [
    "len(reviews), len(ratings), len(product_name), len(company_name)"
   ]
  },
  {
   "cell_type": "code",
   "execution_count": 65,
   "metadata": {},
   "outputs": [],
   "source": [
    "reviews = [sent.strip() for sent in reviews]"
   ]
  },
  {
   "cell_type": "code",
   "execution_count": 14,
   "metadata": {},
   "outputs": [],
   "source": [
    "import pandas as pd"
   ]
  },
  {
   "cell_type": "code",
   "execution_count": 67,
   "metadata": {},
   "outputs": [],
   "source": [
    "list_of_tuples = list(zip(company_name, product_name, reviews, ratings))"
   ]
  },
  {
   "cell_type": "code",
   "execution_count": 68,
   "metadata": {},
   "outputs": [],
   "source": [
    "data = pd.DataFrame(list_of_tuples, columns=['company_name', 'product_name', 'reviews', 'ratings'])"
   ]
  },
  {
   "cell_type": "code",
   "execution_count": 74,
   "metadata": {},
   "outputs": [
    {
     "data": {
      "text/html": [
       "<div>\n",
       "<style scoped>\n",
       "    .dataframe tbody tr th:only-of-type {\n",
       "        vertical-align: middle;\n",
       "    }\n",
       "\n",
       "    .dataframe tbody tr th {\n",
       "        vertical-align: top;\n",
       "    }\n",
       "\n",
       "    .dataframe thead th {\n",
       "        text-align: right;\n",
       "    }\n",
       "</style>\n",
       "<table border=\"1\" class=\"dataframe\">\n",
       "  <thead>\n",
       "    <tr style=\"text-align: right;\">\n",
       "      <th></th>\n",
       "      <th>company_name</th>\n",
       "      <th>product_name</th>\n",
       "      <th>reviews</th>\n",
       "      <th>ratings</th>\n",
       "    </tr>\n",
       "  </thead>\n",
       "  <tbody>\n",
       "    <tr>\n",
       "      <th>0</th>\n",
       "      <td>Apple</td>\n",
       "      <td>New Apple iPhone 11 (64GB) - Black</td>\n",
       "      <td>Please do not buy expensive product like iphon...</td>\n",
       "      <td>1.0</td>\n",
       "    </tr>\n",
       "    <tr>\n",
       "      <th>1</th>\n",
       "      <td>Apple</td>\n",
       "      <td>New Apple iPhone 11 (64GB) - Black</td>\n",
       "      <td>Bought the mobile from appario retail ltd. Mob...</td>\n",
       "      <td>1.0</td>\n",
       "    </tr>\n",
       "    <tr>\n",
       "      <th>2</th>\n",
       "      <td>Apple</td>\n",
       "      <td>New Apple iPhone 11 (64GB) - Black</td>\n",
       "      <td>Awesome Phone. Nice upgrade from iPhone 6s to ...</td>\n",
       "      <td>5.0</td>\n",
       "    </tr>\n",
       "    <tr>\n",
       "      <th>3</th>\n",
       "      <td>Apple</td>\n",
       "      <td>New Apple iPhone 11 (64GB) - Black</td>\n",
       "      <td>My Phone is Producing Too Much Heat Even Didn’...</td>\n",
       "      <td>1.0</td>\n",
       "    </tr>\n",
       "    <tr>\n",
       "      <th>4</th>\n",
       "      <td>Apple</td>\n",
       "      <td>New Apple iPhone 11 (64GB) - Black</td>\n",
       "      <td>This is a big scam. I received the iphone 11 y...</td>\n",
       "      <td>1.0</td>\n",
       "    </tr>\n",
       "  </tbody>\n",
       "</table>\n",
       "</div>"
      ],
      "text/plain": [
       "  company_name                        product_name  \\\n",
       "0        Apple  New Apple iPhone 11 (64GB) - Black   \n",
       "1        Apple  New Apple iPhone 11 (64GB) - Black   \n",
       "2        Apple  New Apple iPhone 11 (64GB) - Black   \n",
       "3        Apple  New Apple iPhone 11 (64GB) - Black   \n",
       "4        Apple  New Apple iPhone 11 (64GB) - Black   \n",
       "\n",
       "                                             reviews  ratings  \n",
       "0  Please do not buy expensive product like iphon...      1.0  \n",
       "1  Bought the mobile from appario retail ltd. Mob...      1.0  \n",
       "2  Awesome Phone. Nice upgrade from iPhone 6s to ...      5.0  \n",
       "3  My Phone is Producing Too Much Heat Even Didn’...      1.0  \n",
       "4  This is a big scam. I received the iphone 11 y...      1.0  "
      ]
     },
     "execution_count": 74,
     "metadata": {},
     "output_type": "execute_result"
    }
   ],
   "source": [
    "data.head()"
   ]
  },
  {
   "cell_type": "code",
   "execution_count": 75,
   "metadata": {},
   "outputs": [
    {
     "data": {
      "text/html": [
       "<div>\n",
       "<style scoped>\n",
       "    .dataframe tbody tr th:only-of-type {\n",
       "        vertical-align: middle;\n",
       "    }\n",
       "\n",
       "    .dataframe tbody tr th {\n",
       "        vertical-align: top;\n",
       "    }\n",
       "\n",
       "    .dataframe thead th {\n",
       "        text-align: right;\n",
       "    }\n",
       "</style>\n",
       "<table border=\"1\" class=\"dataframe\">\n",
       "  <thead>\n",
       "    <tr style=\"text-align: right;\">\n",
       "      <th></th>\n",
       "      <th>company_name</th>\n",
       "      <th>product_name</th>\n",
       "      <th>reviews</th>\n",
       "      <th>ratings</th>\n",
       "    </tr>\n",
       "  </thead>\n",
       "  <tbody>\n",
       "    <tr>\n",
       "      <th>13885</th>\n",
       "      <td>Safari</td>\n",
       "      <td>SAFARI 15 Ltrs Denim Blue Casual/School/Colleg...</td>\n",
       "      <td>Amazing at this price (₹250)</td>\n",
       "      <td>5.0</td>\n",
       "    </tr>\n",
       "    <tr>\n",
       "      <th>13886</th>\n",
       "      <td>Safari</td>\n",
       "      <td>SAFARI 15 Ltrs Denim Blue Casual/School/Colleg...</td>\n",
       "      <td>Light weight and very sort</td>\n",
       "      <td>4.0</td>\n",
       "    </tr>\n",
       "    <tr>\n",
       "      <th>13887</th>\n",
       "      <td>Safari</td>\n",
       "      <td>SAFARI 15 Ltrs Denim Blue Casual/School/Colleg...</td>\n",
       "      <td>Good</td>\n",
       "      <td>4.0</td>\n",
       "    </tr>\n",
       "    <tr>\n",
       "      <th>13888</th>\n",
       "      <td>Safari</td>\n",
       "      <td>SAFARI 15 Ltrs Denim Blue Casual/School/Colleg...</td>\n",
       "      <td>Good looking</td>\n",
       "      <td>5.0</td>\n",
       "    </tr>\n",
       "    <tr>\n",
       "      <th>13889</th>\n",
       "      <td>Safari</td>\n",
       "      <td>SAFARI 15 Ltrs Denim Blue Casual/School/Colleg...</td>\n",
       "      <td>Good</td>\n",
       "      <td>5.0</td>\n",
       "    </tr>\n",
       "  </tbody>\n",
       "</table>\n",
       "</div>"
      ],
      "text/plain": [
       "      company_name                                       product_name  \\\n",
       "13885       Safari  SAFARI 15 Ltrs Denim Blue Casual/School/Colleg...   \n",
       "13886       Safari  SAFARI 15 Ltrs Denim Blue Casual/School/Colleg...   \n",
       "13887       Safari  SAFARI 15 Ltrs Denim Blue Casual/School/Colleg...   \n",
       "13888       Safari  SAFARI 15 Ltrs Denim Blue Casual/School/Colleg...   \n",
       "13889       Safari  SAFARI 15 Ltrs Denim Blue Casual/School/Colleg...   \n",
       "\n",
       "                            reviews  ratings  \n",
       "13885  Amazing at this price (₹250)      5.0  \n",
       "13886    Light weight and very sort      4.0  \n",
       "13887                          Good      4.0  \n",
       "13888                  Good looking      5.0  \n",
       "13889                          Good      5.0  "
      ]
     },
     "execution_count": 75,
     "metadata": {},
     "output_type": "execute_result"
    }
   ],
   "source": [
    "data.tail()"
   ]
  },
  {
   "cell_type": "code",
   "execution_count": 71,
   "metadata": {},
   "outputs": [
    {
     "data": {
      "text/plain": [
       "'/home/joshi-mukul'"
      ]
     },
     "execution_count": 71,
     "metadata": {},
     "output_type": "execute_result"
    }
   ],
   "source": [
    "pwd"
   ]
  },
  {
   "cell_type": "code",
   "execution_count": 72,
   "metadata": {},
   "outputs": [],
   "source": [
    "data.to_csv('Amazon_reviews.csv')"
   ]
  },
  {
   "cell_type": "code",
   "execution_count": 73,
   "metadata": {},
   "outputs": [
    {
     "data": {
      "text/plain": [
       "(13890, 4)"
      ]
     },
     "execution_count": 73,
     "metadata": {},
     "output_type": "execute_result"
    }
   ],
   "source": [
    "data.shape"
   ]
  },
  {
   "cell_type": "code",
   "execution_count": null,
   "metadata": {},
   "outputs": [],
   "source": []
  },
  {
   "cell_type": "code",
   "execution_count": null,
   "metadata": {},
   "outputs": [],
   "source": []
  }
 ],
 "metadata": {
  "kernelspec": {
   "display_name": "Python 3",
   "language": "python",
   "name": "python3"
  },
  "language_info": {
   "codemirror_mode": {
    "name": "ipython",
    "version": 3
   },
   "file_extension": ".py",
   "mimetype": "text/x-python",
   "name": "python",
   "nbconvert_exporter": "python",
   "pygments_lexer": "ipython3",
   "version": "3.8.5"
  }
 },
 "nbformat": 4,
 "nbformat_minor": 4
}
